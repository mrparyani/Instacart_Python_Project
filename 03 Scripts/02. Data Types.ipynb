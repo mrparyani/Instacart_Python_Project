{
 "cells": [
  {
   "cell_type": "markdown",
   "id": "30ccea17",
   "metadata": {},
   "source": [
    "# 02. Data Types"
   ]
  },
  {
   "cell_type": "code",
   "execution_count": 1,
   "id": "d499c36c",
   "metadata": {},
   "outputs": [],
   "source": [
    "x = 2"
   ]
  },
  {
   "cell_type": "code",
   "execution_count": 2,
   "id": "7f82c5ed",
   "metadata": {},
   "outputs": [
    {
     "name": "stdout",
     "output_type": "stream",
     "text": [
      "2\n"
     ]
    }
   ],
   "source": [
    "print(x)"
   ]
  },
  {
   "cell_type": "code",
   "execution_count": 3,
   "id": "a24fda3c",
   "metadata": {},
   "outputs": [
    {
     "name": "stdout",
     "output_type": "stream",
     "text": [
      "\n"
     ]
    }
   ],
   "source": [
    "print ()"
   ]
  },
  {
   "cell_type": "code",
   "execution_count": 4,
   "id": "a5c0e85d",
   "metadata": {},
   "outputs": [
    {
     "data": {
      "text/plain": [
       "int"
      ]
     },
     "execution_count": 4,
     "metadata": {},
     "output_type": "execute_result"
    }
   ],
   "source": [
    "type (x)"
   ]
  },
  {
   "cell_type": "code",
   "execution_count": 5,
   "id": "722de172",
   "metadata": {},
   "outputs": [],
   "source": [
    "y = 5.678"
   ]
  },
  {
   "cell_type": "code",
   "execution_count": 6,
   "id": "b1e04352",
   "metadata": {},
   "outputs": [
    {
     "data": {
      "text/plain": [
       "float"
      ]
     },
     "execution_count": 6,
     "metadata": {},
     "output_type": "execute_result"
    }
   ],
   "source": [
    "type (y)"
   ]
  },
  {
   "cell_type": "code",
   "execution_count": 7,
   "id": "50dc499d",
   "metadata": {},
   "outputs": [],
   "source": [
    "z = 'Brazil'"
   ]
  },
  {
   "cell_type": "code",
   "execution_count": 8,
   "id": "25647d5d",
   "metadata": {},
   "outputs": [
    {
     "data": {
      "text/plain": [
       "str"
      ]
     },
     "execution_count": 8,
     "metadata": {},
     "output_type": "execute_result"
    }
   ],
   "source": [
    "type (z)"
   ]
  },
  {
   "cell_type": "code",
   "execution_count": 13,
   "id": "a8492915",
   "metadata": {},
   "outputs": [
    {
     "data": {
      "text/plain": [
       "str"
      ]
     },
     "execution_count": 13,
     "metadata": {},
     "output_type": "execute_result"
    }
   ],
   "source": [
    "type ('Mania')"
   ]
  },
  {
   "cell_type": "code",
   "execution_count": 14,
   "id": "7c5ab962",
   "metadata": {},
   "outputs": [
    {
     "data": {
      "text/plain": [
       "bool"
      ]
     },
     "execution_count": 14,
     "metadata": {},
     "output_type": "execute_result"
    }
   ],
   "source": [
    "type(True)"
   ]
  },
  {
   "cell_type": "code",
   "execution_count": 15,
   "id": "7614ea8e",
   "metadata": {},
   "outputs": [
    {
     "data": {
      "text/plain": [
       "bool"
      ]
     },
     "execution_count": 15,
     "metadata": {},
     "output_type": "execute_result"
    }
   ],
   "source": [
    "type(False)"
   ]
  },
  {
   "cell_type": "code",
   "execution_count": 16,
   "id": "6d18d036",
   "metadata": {},
   "outputs": [
    {
     "name": "stdout",
     "output_type": "stream",
     "text": [
      "2\n"
     ]
    }
   ],
   "source": [
    "print (x)"
   ]
  },
  {
   "cell_type": "code",
   "execution_count": 17,
   "id": "c2f0a01e",
   "metadata": {},
   "outputs": [
    {
     "data": {
      "text/plain": [
       "6"
      ]
     },
     "execution_count": 17,
     "metadata": {},
     "output_type": "execute_result"
    }
   ],
   "source": [
    "x + 4"
   ]
  },
  {
   "cell_type": "code",
   "execution_count": 18,
   "id": "69d4fe8f",
   "metadata": {},
   "outputs": [
    {
     "data": {
      "text/plain": [
       "7.678"
      ]
     },
     "execution_count": 18,
     "metadata": {},
     "output_type": "execute_result"
    }
   ],
   "source": [
    "x + y"
   ]
  },
  {
   "cell_type": "code",
   "execution_count": 19,
   "id": "cb876682",
   "metadata": {},
   "outputs": [],
   "source": [
    "x = x + 4"
   ]
  },
  {
   "cell_type": "code",
   "execution_count": 20,
   "id": "838be882",
   "metadata": {},
   "outputs": [
    {
     "name": "stdout",
     "output_type": "stream",
     "text": [
      "6\n"
     ]
    }
   ],
   "source": [
    "print (x)"
   ]
  },
  {
   "cell_type": "code",
   "execution_count": 22,
   "id": "49857f48",
   "metadata": {},
   "outputs": [],
   "source": [
    "a = 'Hello,  '"
   ]
  },
  {
   "cell_type": "code",
   "execution_count": 23,
   "id": "b0095b34",
   "metadata": {},
   "outputs": [],
   "source": [
    "b = 'Marley'"
   ]
  },
  {
   "cell_type": "code",
   "execution_count": 24,
   "id": "96d81b8f",
   "metadata": {},
   "outputs": [
    {
     "data": {
      "text/plain": [
       "'Hello,  Marley'"
      ]
     },
     "execution_count": 24,
     "metadata": {},
     "output_type": "execute_result"
    }
   ],
   "source": [
    "a + b"
   ]
  },
  {
   "cell_type": "code",
   "execution_count": 25,
   "id": "67cefa08",
   "metadata": {},
   "outputs": [],
   "source": [
    "n = 'Emin'"
   ]
  },
  {
   "cell_type": "code",
   "execution_count": 26,
   "id": "c74f245f",
   "metadata": {},
   "outputs": [
    {
     "data": {
      "text/plain": [
       "'EminEminEminEminEminEminEminEminEminEminEminEmin'"
      ]
     },
     "execution_count": 26,
     "metadata": {},
     "output_type": "execute_result"
    }
   ],
   "source": [
    "n * 12"
   ]
  },
  {
   "cell_type": "code",
   "execution_count": 27,
   "id": "10d68536",
   "metadata": {},
   "outputs": [
    {
     "data": {
      "text/plain": [
       "False"
      ]
     },
     "execution_count": 27,
     "metadata": {},
     "output_type": "execute_result"
    }
   ],
   "source": [
    "x == y"
   ]
  },
  {
   "cell_type": "code",
   "execution_count": 28,
   "id": "3d473d36",
   "metadata": {},
   "outputs": [
    {
     "data": {
      "text/plain": [
       "bool"
      ]
     },
     "execution_count": 28,
     "metadata": {},
     "output_type": "execute_result"
    }
   ],
   "source": [
    "type(x==y)"
   ]
  },
  {
   "cell_type": "code",
   "execution_count": 1,
   "id": "1798f97a",
   "metadata": {},
   "outputs": [],
   "source": [
    "k = 10"
   ]
  },
  {
   "cell_type": "code",
   "execution_count": 2,
   "id": "275f23ee",
   "metadata": {},
   "outputs": [],
   "source": [
    "l = 20"
   ]
  },
  {
   "cell_type": "code",
   "execution_count": 3,
   "id": "362134a7",
   "metadata": {},
   "outputs": [],
   "source": [
    "m = 70"
   ]
  },
  {
   "cell_type": "code",
   "execution_count": 4,
   "id": "11f30b5c",
   "metadata": {},
   "outputs": [
    {
     "data": {
      "text/plain": [
       "100"
      ]
     },
     "execution_count": 4,
     "metadata": {},
     "output_type": "execute_result"
    }
   ],
   "source": [
    "k + l + m "
   ]
  },
  {
   "cell_type": "code",
   "execution_count": 5,
   "id": "ea9bf02c",
   "metadata": {},
   "outputs": [],
   "source": [
    "s = 1.80"
   ]
  },
  {
   "cell_type": "code",
   "execution_count": 6,
   "id": "9890cfc7",
   "metadata": {},
   "outputs": [],
   "source": [
    "t = 2.50"
   ]
  },
  {
   "cell_type": "code",
   "execution_count": 7,
   "id": "d6032b2b",
   "metadata": {},
   "outputs": [
    {
     "data": {
      "text/plain": [
       "0.72"
      ]
     },
     "execution_count": 7,
     "metadata": {},
     "output_type": "execute_result"
    }
   ],
   "source": [
    "s/t"
   ]
  },
  {
   "cell_type": "code",
   "execution_count": 10,
   "id": "864c33de",
   "metadata": {},
   "outputs": [],
   "source": [
    "c = 'Cerit'"
   ]
  },
  {
   "cell_type": "code",
   "execution_count": 13,
   "id": "92eb38b9",
   "metadata": {},
   "outputs": [],
   "source": [
    "e = 'Emin '"
   ]
  },
  {
   "cell_type": "code",
   "execution_count": 14,
   "id": "a1095516",
   "metadata": {},
   "outputs": [
    {
     "data": {
      "text/plain": [
       "'Emin Cerit'"
      ]
     },
     "execution_count": 14,
     "metadata": {},
     "output_type": "execute_result"
    }
   ],
   "source": [
    "e + c"
   ]
  },
  {
   "cell_type": "code",
   "execution_count": 15,
   "id": "8c5dc240",
   "metadata": {},
   "outputs": [],
   "source": [
    "d = ' is back on CF track again'"
   ]
  },
  {
   "cell_type": "code",
   "execution_count": 16,
   "id": "0457575f",
   "metadata": {},
   "outputs": [
    {
     "data": {
      "text/plain": [
       "'Emin Cerit is back on CF track again'"
      ]
     },
     "execution_count": 16,
     "metadata": {},
     "output_type": "execute_result"
    }
   ],
   "source": [
    "e + c + d"
   ]
  },
  {
   "cell_type": "code",
   "execution_count": 19,
   "id": "a6b82729",
   "metadata": {},
   "outputs": [],
   "source": [
    "f = ', and he feels very happy'"
   ]
  },
  {
   "cell_type": "code",
   "execution_count": 20,
   "id": "613310cc",
   "metadata": {},
   "outputs": [
    {
     "data": {
      "text/plain": [
       "'Emin Cerit is back on CF track again, and he feels very happy'"
      ]
     },
     "execution_count": 20,
     "metadata": {},
     "output_type": "execute_result"
    }
   ],
   "source": [
    "e + c + d + f"
   ]
  },
  {
   "cell_type": "code",
   "execution_count": 11,
   "id": "1f1de7b3",
   "metadata": {},
   "outputs": [],
   "source": [
    "HNY = 'Happy New Year 2023 '"
   ]
  },
  {
   "cell_type": "code",
   "execution_count": 12,
   "id": "e03de6b1",
   "metadata": {},
   "outputs": [
    {
     "data": {
      "text/plain": [
       "'Happy New Year 2023 Happy New Year 2023 Happy New Year 2023 Happy New Year 2023 Happy New Year 2023 Happy New Year 2023 Happy New Year 2023 Happy New Year 2023 Happy New Year 2023 Happy New Year 2023 Happy New Year 2023 Happy New Year 2023 Happy New Year 2023 Happy New Year 2023 Happy New Year 2023 Happy New Year 2023 Happy New Year 2023 Happy New Year 2023 Happy New Year 2023 Happy New Year 2023 Happy New Year 2023 Happy New Year 2023 Happy New Year 2023 Happy New Year 2023 Happy New Year 2023 Happy New Year 2023 Happy New Year 2023 Happy New Year 2023 Happy New Year 2023 Happy New Year 2023 Happy New Year 2023 Happy New Year 2023 Happy New Year 2023 Happy New Year 2023 Happy New Year 2023 Happy New Year 2023 Happy New Year 2023 Happy New Year 2023 Happy New Year 2023 Happy New Year 2023 Happy New Year 2023 Happy New Year 2023 Happy New Year 2023 Happy New Year 2023 Happy New Year 2023 Happy New Year 2023 Happy New Year 2023 Happy New Year 2023 Happy New Year 2023 Happy New Year 2023 Happy New Year 2023 Happy New Year 2023 Happy New Year 2023 Happy New Year 2023 Happy New Year 2023 Happy New Year 2023 Happy New Year 2023 Happy New Year 2023 Happy New Year 2023 Happy New Year 2023 Happy New Year 2023 Happy New Year 2023 Happy New Year 2023 Happy New Year 2023 Happy New Year 2023 Happy New Year 2023 Happy New Year 2023 Happy New Year 2023 Happy New Year 2023 Happy New Year 2023 Happy New Year 2023 Happy New Year 2023 Happy New Year 2023 Happy New Year 2023 Happy New Year 2023 Happy New Year 2023 Happy New Year 2023 Happy New Year 2023 Happy New Year 2023 Happy New Year 2023 Happy New Year 2023 Happy New Year 2023 Happy New Year 2023 Happy New Year 2023 Happy New Year 2023 Happy New Year 2023 Happy New Year 2023 Happy New Year 2023 Happy New Year 2023 Happy New Year 2023 Happy New Year 2023 Happy New Year 2023 Happy New Year 2023 Happy New Year 2023 Happy New Year 2023 Happy New Year 2023 Happy New Year 2023 Happy New Year 2023 Happy New Year 2023 Happy New Year 2023 '"
      ]
     },
     "execution_count": 12,
     "metadata": {},
     "output_type": "execute_result"
    }
   ],
   "source": [
    "HNY * 100"
   ]
  },
  {
   "cell_type": "code",
   "execution_count": null,
   "id": "8ea24f6b",
   "metadata": {},
   "outputs": [],
   "source": []
  }
 ],
 "metadata": {
  "kernelspec": {
   "display_name": "Python 3 (ipykernel)",
   "language": "python",
   "name": "python3"
  },
  "language_info": {
   "codemirror_mode": {
    "name": "ipython",
    "version": 3
   },
   "file_extension": ".py",
   "mimetype": "text/x-python",
   "name": "python",
   "nbconvert_exporter": "python",
   "pygments_lexer": "ipython3",
   "version": "3.9.13"
  }
 },
 "nbformat": 4,
 "nbformat_minor": 5
}
